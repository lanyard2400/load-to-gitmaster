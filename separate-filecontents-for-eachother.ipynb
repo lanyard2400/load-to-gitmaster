{
 "cells": [
  {
   "cell_type": "markdown",
   "id": "362ebc91",
   "metadata": {},
   "source": [
    "# 🌱 Git で「同じファイルだけど、メインとは別の内容で保存する方法」マニュアル\n",
    "\n",
    "## ✅ やりたいこと!!!\n",
    "- **main ブランチ** → 本番用（きれいな内容）\n",
    "- **work ブランチ** → 試験用（追加したり書き換えたり）\n",
    "\n",
    "👉 **同じファイル名でも、ブランチごとに内容を変えて管理できる！**\n",
    "\n",
    "---\n",
    "\n",
    "1️⃣ 新しいブランチを作る\n",
    "```bash\n",
    "git checkout -b work-branch\n",
    "# 例: git checkout -b work-hiro\n"
   ]
  },
  {
   "cell_type": "markdown",
   "id": "221e6961",
   "metadata": {},
   "source": [
    "2️⃣ ファイルを編集\n",
    "VS Code で 同じファイル（例: how-to-start-git.ipynb）を編集\n",
    "\n",
    "Ctrl + S で保存しておく!!! Git commit は、保存された内容だけを記録する\n",
    "\n"
   ]
  },
  {
   "cell_type": "markdown",
   "id": "edd76944",
   "metadata": {},
   "source": [
    "\n",
    "3️⃣ 編集した内容をコミット（ブランチ専用にする）\n",
    "\n",
    "git add ファイル名\n",
    "git commit -m \"workブランチ用の内容に更新\"\n",
    "\n",
    "✅ これで work-hiro 専用の内容として保存される\n",
    "👉 main と分かれるポイントは「コミット」\n",
    "\n",
    "\n",
    "4️⃣ main に切り替えると…  \n",
    "git switch main  \n",
    "\n",
    "✅ main ブランチでは、ファイルの内容は main のものに戻る   \n",
    "\n",
    "5️⃣ 再び work ブランチに戻ると…  \n",
    "git switch work-hiro  \n",
    "✅ work-hiro でコミットした内容が復活  \n",
    "\n",
    "\n",
    "#### 🌱 ポイント\n",
    "commit するまではブランチをまたいで変更が持ち越される\n",
    "👉 **必ず commit してからブランチを切り替える!!**\n",
    "commitせずに、ブランチ切り替えたら、mainの方も変わるからね！！一緒に荷物を持って行ってるイメージ！  \n",
    "\n",
    "commit すれば、同じファイル名でも “ブランチ専用” の内容になる\n",
    "👉 main 用、work 用で別々の内容を安全に保存できる。\n",
    "#### まとめ\n",
    "**ファイル保存、add,commitしてからブランチ切り替えてみると、ブランチごとに代わることが実感できる！！**\n",
    "**逆にcommitする前にブランチ切り替えてしまうと、切り替えたブランチにも変更データ反映されるので注意しよう！(荷物を一緒に持って行っちゃうイメージ)**\n"
   ]
  }
 ],
 "metadata": {
  "kernelspec": {
   "display_name": "Python 3",
   "language": "python",
   "name": "python3"
  },
  "language_info": {
   "codemirror_mode": {
    "name": "ipython",
    "version": 3
   },
   "file_extension": ".py",
   "mimetype": "text/x-python",
   "name": "python",
   "nbconvert_exporter": "python",
   "pygments_lexer": "ipython3",
   "version": "3.12.3"
  }
 },
 "nbformat": 4,
 "nbformat_minor": 5
}
